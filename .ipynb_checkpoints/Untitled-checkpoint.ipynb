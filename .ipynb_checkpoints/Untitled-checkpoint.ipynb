{
 "cells": [
  {
   "cell_type": "markdown",
   "id": "de5fb009",
   "metadata": {},
   "source": [
    "## 决策树 （decision Tree）\n",
    "\n",
    "步骤\n",
    "- 构建树状结构，每个结点使用\n",
    "- 树状结构，保护一个根结点，若干内部结点，若干叶子结点；\n",
    "- 叶子结点对应决策结果；根节点包含所有样本示例；\n",
    "- 除叶子结点外，每个结点都对应数据的某个属性\n",
    "\n",
    "**构建决策树**\n",
    "- 选择合适的结点（属性）\n"
   ]
  },
  {
   "cell_type": "markdown",
   "id": "c410065c",
   "metadata": {},
   "source": [
    "### 红酒分类示例\n"
   ]
  },
  {
   "cell_type": "code",
   "execution_count": null,
   "id": "6ee94bcb",
   "metadata": {},
   "outputs": [],
   "source": [
    "## wine_class\n",
    "from sklearn import tree\n",
    "from sklearn.dataset import load_wine\n",
    "from sklearn.model_selection\n"
   ]
  },
  {
   "cell_type": "code",
   "execution_count": null,
   "id": "2780d75a",
   "metadata": {},
   "outputs": [],
   "source": []
  },
  {
   "cell_type": "markdown",
   "id": "e03d982d",
   "metadata": {},
   "source": [
    "### 西瓜分类示例\n"
   ]
  },
  {
   "cell_type": "markdown",
   "id": "8a9939b0",
   "metadata": {},
   "source": [
    "### 燕尾花分类示例\n"
   ]
  },
  {
   "cell_type": "markdown",
   "id": "51b66d82",
   "metadata": {},
   "source": [
    "## reference\n",
    "\n",
    "- [决策树（decision tree）（一）——构造决策树方法](https://blog.csdn.net/u012328159/article/details/70184415)\n",
    "- []()"
   ]
  }
 ],
 "metadata": {
  "kernelspec": {
   "display_name": "Python 3",
   "language": "python",
   "name": "python3"
  },
  "language_info": {
   "codemirror_mode": {
    "name": "ipython",
    "version": 3
   },
   "file_extension": ".py",
   "mimetype": "text/x-python",
   "name": "python",
   "nbconvert_exporter": "python",
   "pygments_lexer": "ipython3",
   "version": "3.8.8"
  }
 },
 "nbformat": 4,
 "nbformat_minor": 5
}
